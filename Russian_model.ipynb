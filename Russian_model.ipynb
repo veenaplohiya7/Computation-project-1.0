{
 "cells": [
  {
   "cell_type": "code",
   "execution_count": 39,
   "metadata": {},
   "outputs": [],
   "source": [
    "import numpy as np\n",
    "import matplotlib.pyplot as plt\n",
    "\n",
    "from modelbase.ode import Model, LabelModel, LinearLabelModel, Simulator, mca\n",
    "from modelbase.ode import ratefunctions as rf"
   ]
  },
  {
   "cell_type": "code",
   "execution_count": 40,
   "metadata": {},
   "outputs": [
    {
     "data": {
      "text/plain": [
       "{'upmax': 0.003,\n",
       " 'ummax': 0.05,\n",
       " 'y': 0.001,\n",
       " 'm': 0.09,\n",
       " 'Yms': 0.2,\n",
       " 'd': 1.5,\n",
       " 'Ypco2': 0.5,\n",
       " 'Ypn': 25,\n",
       " 'Ymn': 25,\n",
       " 'Kpco2': 2,\n",
       " 'Kms': 0.05,\n",
       " 'Kpn': 0.05,\n",
       " 'Kmn': 0.05,\n",
       " 'y1': 0.002,\n",
       " 'XpmaxB': 200,\n",
       " 'XpmaxWB': 130,\n",
       " 'Nadd': 0.04,\n",
       " 'a': 1000}"
      ]
     },
     "execution_count": 40,
     "metadata": {},
     "output_type": "execute_result"
    }
   ],
   "source": [
    "R=Model()\n",
    "R.add_compounds([\"Xp\",\"Xm\",\"S\",\"N\",\"Co2\"])\n",
    "p={\n",
    "\"upmax\":0.003,\n",
    "\"ummax\":0.05,\n",
    "\"y\":0.001,\n",
    "\"m\":0.09,\n",
    "\"Yms\":0.2,\n",
    "\"d\":1.5,\n",
    "\"Ypco2\":0.5,\n",
    "\"Ypn\":25,\n",
    "\"Ymn\":25,\n",
    "\"Kpco2\":2,\n",
    "\"Kms\":0.05,\n",
    "\"Kpn\":0.05,\n",
    "\"Kmn\":0.05,\n",
    "\"y1\":0.002,\n",
    "\"XpmaxB\":200,\n",
    "\"XpmaxWB\": 130,\n",
    "\"Nadd\":0.04,\n",
    "\"a\":1000\n",
    "}\n",
    "R.add_parameters(p)\n",
    "R.parameters"
   ]
  },
  {
   "cell_type": "code",
   "execution_count": 41,
   "metadata": {},
   "outputs": [],
   "source": [
    "def up (upmax,Co2,Kpco2,N,Kpn,a,Xm,y1):\n",
    "    return (upmax*(Co2/(Kpco2+Co2))*(N/(Kpn+N))*(1+((a*Xm)/(1+(y1*Xm)))))\n",
    "def um (ummax,S,Kms,N,Kmn):\n",
    "    return (ummax*(S/(Kms+S))*(N/(Kmn+N)))\n",
    "def m (m):\n",
    "    return (m)\n",
    "def glfactorpB (up,Xp,XpmaxB):\n",
    "    return (up*(Xp/XpmaxB))\n",
    "def glfactorpWB (up,Xp,XpmaxWB):\n",
    "    return (up*(Xp/XpmaxWB))\n",
    "def exufactorp (up,y):\n",
    "    return (up*y)\n",
    "def exufactorplantadd (y,up,Xp):\n",
    "    return (y*up*Xp)\n",
    "def exufactormneg  (um,Xm,Yms):\n",
    "    return (um*Xm/Yms)\n",
    "def Nfactormadd (m,Xm,Ymn):\n",
    "    return (m*Xm/Ymn)\n",
    "def Nfactormneg (um,Xm,Ymn):\n",
    "    return (um*Xm/Ymn)\n",
    "def Nfactorp (up, Xp, Ypn):\n",
    "    return (up*Xp/Ypn)\n",
    "def Nadd (Nadd):\n",
    "    return (Nadd)\n",
    "def Co2bacadd (d,m,Xm,Yms):\n",
    "    return (d*m*Xm/Yms)\n",
    "def Co2pneg (up,Xp,Ypco2):\n",
    "    return (up*Xp/Ypco2)"
   ]
  },
  {
   "cell_type": "code",
   "execution_count": 42,
   "metadata": {},
   "outputs": [
    {
     "data": {
      "text/plain": [
       "<modelbase.ode.models.model.Model at 0x20bbb577c90>"
      ]
     },
     "execution_count": 42,
     "metadata": {},
     "output_type": "execute_result"
    }
   ],
   "source": [
    "R.add_algebraic_module_from_args(\n",
    "    module_name= \"up\",\n",
    "    function= up,\n",
    "    derived_compounds= [\"up\"],\n",
    "    args=[\"upmax\",\"Co2\",\"Kpco2\",\"N\",\"Kpn\",\"a\",\"Xm\",\"y1\"]\n",
    ")\n",
    "R.add_algebraic_module_from_args(\n",
    "    module_name= \"um\",\n",
    "    function= um,\n",
    "    derived_compounds= [\"um\"],\n",
    "    args=[\"ummax\",\"S\",\"Kms\",\"N\",\"Kpn\"]\n",
    ")\n",
    "R.add_algebraic_module_from_args(\n",
    "    module_name= \"glfactorpB\",\n",
    "    function= glfactorpB,\n",
    "    derived_compounds= [\"glfactorpB\"],\n",
    "    args=[\"up\",\"XpmaxB\",\"Xp\"]\n",
    ")\n",
    "R.add_algebraic_module_from_args(\n",
    "    module_name= \"glfactorpWB\",\n",
    "    function= glfactorpWB,\n",
    "    derived_compounds= [\"glfactorpWB\"],\n",
    "    args=[\"up\",\"XpmaxWB\",\"Xp\"]\n",
    ")\n",
    "R.add_algebraic_module_from_args(\n",
    "    module_name=\"exufactorp\",\n",
    "    function= exufactorp ,\n",
    "    derived_compounds=[\"exufactorp\"],\n",
    "    args=[\"up\",\"y\"]\n",
    ")\n",
    "R.add_algebraic_module_from_args(\n",
    "    module_name=\"exufactorplantadd\",\n",
    "    function= exufactorplantadd,\n",
    "    derived_compounds=[\"exufactorplantadd\"],\n",
    "    args=[\"y\",\"up\",\"Xp\"]\n",
    ")\n",
    "R.add_algebraic_module_from_args (\n",
    "    module_name=\"exufactormneg\",\n",
    "    function= exufactormneg,\n",
    "    derived_compounds=[\"exufactormneg\"],\n",
    "    args=[\"um\",\"Xm\",\"Yms\"]\n",
    ")\n",
    "R.add_algebraic_module_from_args(\n",
    "    module_name=\"Nfactormadd\",\n",
    "    function= Nfactormadd,\n",
    "    derived_compounds=[\"Nfactormadd\"],\n",
    "    args=[\"m\",\"Xm\",\"Ymn\"]\n",
    ")\n",
    "R.add_algebraic_module_from_args(\n",
    "    module_name=\"Nfactormneg\",\n",
    "    function=Nfactormneg,\n",
    "    derived_compounds=[\"Nfactormneg\"],\n",
    "    args=[\"um\",\"Xm\",\"Ymn\"]\n",
    "    )\n",
    "R.add_algebraic_module_from_args(\n",
    "    module_name=\"Nfactorp\",\n",
    "    function= Nfactorp,\n",
    "    derived_compounds=[\"Nfactorp\"],\n",
    "    args=[\"up\",\"Xp\",\"Ypn\"]\n",
    ")\n",
    "R.add_algebraic_module_from_args(\n",
    "    module_name=\"Co2bacadd\",\n",
    "    function= Co2bacadd,\n",
    "    derived_compounds= [\"Co2bacadd\"],\n",
    "    args=[\"d\",\"m\",\"Xm\",\"Yms\"]\n",
    ")\n",
    "R.add_algebraic_module_from_args(\n",
    "    module_name=\"Co2pneg\",\n",
    "    function= Co2pneg,\n",
    "    derived_compounds=[\"Co2pneg\"],\n",
    "    args=[\"up\",\"Xp\",\"Ypco2\"]\n",
    ")"
   ]
  },
  {
   "cell_type": "code",
   "execution_count": 43,
   "metadata": {},
   "outputs": [
    {
     "data": {
      "text/plain": [
       "<modelbase.ode.models.model.Model at 0x20bbb577c90>"
      ]
     },
     "execution_count": 43,
     "metadata": {},
     "output_type": "execute_result"
    }
   ],
   "source": [
    "R.add_reaction_from_args(\n",
    "    rate_name = \"growth_rate_of_plants\",\n",
    "    function= up,\n",
    "    stoichiometry= {\"Xp\":1},\n",
    "    args=[\"upmax\",\"Co2\",\"Kpco2\",\"N\",\"Kpn\",\"a\",\"Xm\",\"y1\"]\n",
    ") \n",
    "R.add_reaction_from_args(\n",
    "    rate_name= \"growth_limiting_factor_plants_bacteria\",\n",
    "    function = glfactorpB ,\n",
    "    stoichiometry={\"Xp\":-1},\n",
    "    args= [\"up\",\"XpmaxB\",\"Xp\"]\n",
    ")\n",
    "R.add_reaction_from_args(\n",
    "    rate_name= \"growth_limiting_factor_plants_wbacteria\",\n",
    "    function = glfactorpWB ,\n",
    "    stoichiometry={\"Xp\":-1},\n",
    "    args= [\"up\",\"XpmaxWB\",\"Xp\"]\n",
    ")\n",
    "R.add_reaction_from_args(\n",
    "    rate_name=\"exufactorp\",\n",
    "    function= exufactorp,\n",
    "    stoichiometry={\"Xp\":-1},\n",
    "    args=[\"up\",\"y\"]\n",
    ")\n",
    "R.add_reaction_from_args(\n",
    "    rate_name=\"growth_rate_of_microbes\",\n",
    "    function= um,\n",
    "    stoichiometry={\"Xm\":1},\n",
    "    args=[\"ummax\",\"S\",\"Kms\",\"N\",\"Kmn\"]\n",
    ")\n",
    "R.add_reaction_from_args(\n",
    "    rate_name=\"m\",\n",
    "    function= m,\n",
    "    stoichiometry={\"Xm\":-1},\n",
    "    args=[\"m\"]\n",
    ")\n",
    "R.add_reaction_from_args(\n",
    "    rate_name=\"exufactorplantadd\",\n",
    "    function= exufactorplantadd,\n",
    "    stoichiometry={\"S\":1},\n",
    "    args=[\"y\",\"up\",\"Xp\"]\n",
    ")\n",
    "R.add_reaction_from_args(\n",
    "    rate_name=\"exufactormneg\",\n",
    "    function= exufactormneg,\n",
    "    stoichiometry={\"S\":-1},\n",
    "    args=[\"um\",\"Xm\",\"Yms\"]\n",
    ")\n",
    "R.add_reaction_from_args(\n",
    "    rate_name=\"Nfactormadd\",\n",
    "    function= Nfactormadd,\n",
    "    stoichiometry={\"N\":1},\n",
    "    args=[\"m\",\"Xm\",\"Ymn\"]\n",
    ")\n",
    "R.add_reaction_from_args(\n",
    "    rate_name=\"Nfactormneg\",\n",
    "    function=Nfactormneg,\n",
    "    stoichiometry={\"N\":-1},\n",
    "    args=[\"um\",\"Xm\",\"Ymn\"]\n",
    ")\n",
    "R.add_reaction_from_args(\n",
    "    rate_name=\"Nfactorp\",\n",
    "    function= Nfactorp,\n",
    "    stoichiometry={\"N\":-1},\n",
    "    args=[\"up\",\"Xp\",\"Ypn\"]\n",
    ")\n",
    "R.add_reaction_from_args(\n",
    "    rate_name=\"Nadd\",\n",
    "    function=Nadd,\n",
    "    stoichiometry={\"N\":+1},\n",
    "    args=[\"Nadd\"]\n",
    ")\n",
    "R.add_reaction_from_args(\n",
    "    rate_name=\"Co2bacadd\",\n",
    "    function= Co2bacadd,\n",
    "    stoichiometry={\"Co2\":1},\n",
    "    args=[\"d\",\"m\",\"Xm\",\"Yms\"]\n",
    ")\n",
    "R.add_reaction_from_args(\n",
    "    rate_name=\"Co2pneg\",\n",
    "    function=Co2pneg,\n",
    "    stoichiometry={\"Co2\":-1},\n",
    "    args=[\"up\",\"Xp\",\"Ypco2\"]\n",
    ")"
   ]
  },
  {
   "cell_type": "code",
   "execution_count": 44,
   "metadata": {},
   "outputs": [
    {
     "name": "stderr",
     "output_type": "stream",
     "text": [
      "ODEintWarning: Excess work done on this call (perhaps wrong Dfun type). Run with full_output = 1 to get quantitative information.\n",
      "RuntimeWarning: overflow encountered in divide\n",
      "RuntimeWarning: invalid value encountered in multiply\n",
      "RuntimeWarning: overflow encountered in divide\n",
      "RuntimeWarning: invalid value encountered in multiply\n"
     ]
    },
    {
     "data": {
      "text/plain": [
       "(<Figure size 1000x700 with 1 Axes>,\n",
       " <Axes: xlabel='Remember to label your axes', ylabel='Remember to label your axes'>)"
      ]
     },
     "execution_count": 44,
     "metadata": {},
     "output_type": "execute_result"
    },
    {
     "data": {
      "image/png": "[encoded data removed]",
      "text/plain": [
       "<Figure size 1000x700 with 1 Axes>"
      ]
     },
     "metadata": {},
     "output_type": "display_data"
    }
   ],
   "source": [
    "s=Simulator(R)\n",
    "s.initialise ({\"Xp\":1,\"Xm\":1,\"S\":1,\"N\":1,\"Co2\":1})\n",
    "\n",
    "s.simulate(20)\n",
    "s.plot_selection(\"Xp\")"
   ]
  }
 ],
 "metadata": {
  "kernelspec": {
   "display_name": "Python 3",
   "language": "python",
   "name": "python3"
  },
  "language_info": {
   "codemirror_mode": {
    "name": "ipython",
    "version": 3
   },
   "file_extension": ".py",
   "mimetype": "text/x-python",
   "name": "python",
   "nbconvert_exporter": "python",
   "pygments_lexer": "ipython3",
   "version": "3.11.7"
  }
 },
 "nbformat": 4,
 "nbformat_minor": 2
}
